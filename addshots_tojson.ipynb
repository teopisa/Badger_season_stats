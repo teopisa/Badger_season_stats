{
 "cells": [
  {
   "cell_type": "code",
   "execution_count": 11,
   "metadata": {},
   "outputs": [
    {
     "name": "stdout",
     "output_type": "stream",
     "text": [
      "{'Claudio': [{'X': -5.370447841605497, 'Y': 12.6133350739107, 'Made': False}, {'X': -2.446830089568323, 'Y': 12.647330629166945, 'Made': True}, {'X': -0.9850212135497358, 'Y': 11.525477305710822, 'Made': True}, {'X': 0.30680988618761873, 'Y': 11.253512863660852, 'Made': True}, {'X': 2.516520977843623, 'Y': 12.681326184423192, 'Made': False}, {'X': -6.5942878308303605, 'Y': 9.043801772004848, 'Made': False}, {'X': -6.220336723011652, 'Y': 8.193912890598693, 'Made': True}, {'X': -5.60841672839922, 'Y': 7.615988451242507, 'Made': True}, {'X': -4.928505623274296, 'Y': 7.0380640118863225, 'Made': False}, {'X': -4.316585628661864, 'Y': 6.358152906761398, 'Made': False}, {'X': -3.6706700787931865, 'Y': 5.882215133173951, 'Made': False}, {'X': -2.854776752643277, 'Y': 5.54225958061149, 'Made': True}, {'X': -1.121003434574721, 'Y': 5.134312917536534, 'Made': False}, {'X': 1.088707657081283, 'Y': 5.236299583305274, 'Made': True}, {'X': 2.4825254225873756, 'Y': 5.508264025355243, 'Made': True}, {'X': 4.114312074887195, 'Y': 6.15417957522392, 'Made': False}, {'X': 5.338152064112059, 'Y': 7.004068456630077, 'Made': False}, {'X': 6.188040945518214, 'Y': 8.091926224829955, 'Made': True}, {'X': 0.442792107212604, 'Y': 7.989939559061216, 'Made': False}], 'Geno': [{'X': -5.166474510068019, 'Y': 12.749317294935686, 'Made': False}, {'X': 2.3805387568186376, 'Y': 13.225255068523133, 'Made': True}, {'X': -1.936896760724629, 'Y': 12.103401745067007, 'Made': True}, {'X': 0.30680988618761873, 'Y': 11.42349063994208, 'Made': True}, {'X': 2.55051653309987, 'Y': 12.34137063186073, 'Made': False}, {'X': 2.4825254225873756, 'Y': 11.321503974173343, 'Made': True}, {'X': -0.5770745504747801, 'Y': 6.800095125092599, 'Made': False}, {'X': -0.37310121893730397, 'Y': 5.100317362280289, 'Made': False}], 'Gio': [{'X': 2.9244676409185786, 'Y': 15.944899489022827, 'Made': False}, {'X': -2.786785642130784, 'Y': 13.599206176341841, 'Made': False}, {'X': -2.8207811973870314, 'Y': 12.409361742373221, 'Made': False}, {'X': -6.016363391474174, 'Y': 12.375366187116978, 'Made': False}, {'X': -5.982367836217929, 'Y': 11.42349063994208, 'Made': False}, {'X': -6.016363391474174, 'Y': 7.412015119705031, 'Made': False}, {'X': -0.9510256582934904, 'Y': 9.723712877129774, 'Made': False}, {'X': -3.19473230520574, 'Y': 9.757708432386018, 'Made': True}, {'X': -2.4128345343120774, 'Y': 8.431881777392416, 'Made': True}, {'X': 3.162436527712302, 'Y': 12.919295071216915, 'Made': False}, {'X': 4.352280961680918, 'Y': 12.273379521348236, 'Made': False}, {'X': 3.400405414506025, 'Y': 11.049539532123376, 'Made': True}], 'Teo': [{'X': -7.070225604417807, 'Y': 9.48574399033605, 'Made': False}, {'X': -4.826518957505558, 'Y': 12.137397300323254, 'Made': False}, {'X': -2.0048878712371216, 'Y': 11.865432858273284, 'Made': False}, {'X': -1.2229901003434591, 'Y': 9.791703987642265, 'Made': False}, {'X': 3.0944454171998075, 'Y': 9.281770658798571, 'Made': True}], 'Lorenz': [{'X': 4.522258737962151, 'Y': 13.599206176341841, 'Made': False}, {'X': 2.3125476463061467, 'Y': 12.715321739679439, 'Made': True}, {'X': -1.0530123240622284, 'Y': 12.171392855579498, 'Made': False}, {'X': -0.6110701057310273, 'Y': 11.457486195198328, 'Made': False}], 'Patrick': [{'X': 5.134178732574583, 'Y': 13.089272847498147, 'Made': True}, {'X': -0.33910566368105677, 'Y': 6.766099569836352, 'Made': False}], 'Sandri': [{'X': -2.0048878712371216, 'Y': 10.029672874435988, 'Made': False}, {'X': -0.44109232944979837, 'Y': 5.202304028049027, 'Made': True}], 'Giamba': [{'X': -2.5148212000808154, 'Y': 12.409361742373221, 'Made': True}, {'X': -0.7470523267560125, 'Y': 10.199650650717217, 'Made': False}, {'X': 4.590249848474642, 'Y': 12.749317294935686, 'Made': False}, {'X': 1.0547121018250358, 'Y': 7.683979561755, 'Made': False}, {'X': -4.282590073405618, 'Y': 5.882215133173951, 'Made': False}], 'Zampo': [{'X': -0.20312344265607152, 'Y': 9.893690653411003, 'Made': False}, {'X': -4.62254562596808, 'Y': 6.358152906761398, 'Made': True}, {'X': 5.440138729880797, 'Y': 13.293246179035624, 'Made': True}], 'Scara': [{'X': -2.37883897905583, 'Y': 12.749317294935686, 'Made': False}, {'X': -1.6989278739309057, 'Y': 12.06940618981076, 'Made': False}, {'X': -2.140870092262107, 'Y': 11.593468416223313, 'Made': False}, {'X': -2.990758973668262, 'Y': 11.967419524042022, 'Made': False}], 'Iachi': [{'X': -5.370447841605497, 'Y': 12.919295071216915, 'Made': False}, {'X': -2.242856758030845, 'Y': 12.443357297629468, 'Made': False}, {'X': 2.448529867331132, 'Y': 13.429228400060609, 'Made': False}, {'X': 4.420272072193413, 'Y': 6.392148462017645, 'Made': False}]}\n",
      "Claudio\n",
      "Geno\n",
      "Gio\n",
      "Teo\n",
      "Lorenz\n",
      "Patrick\n",
      "Sandri\n",
      "Giamba\n",
      "Zampo\n",
      "Scara\n",
      "Iachi\n",
      "Statistiche aggiornate con i tiri dei giocatori.\n",
      "{'info_partita': {'home': 'Urgnano', 'away': 'Badgers', 'data': '28/11/2024'}, 'stats_partita': {'Progressione_partita': {'Badgers': {'1Q': 15, '2Q': 17, '3Q': 15, '4Q': 13}, 'Urgnano': {'1Q': 2, '2Q': 5, '3Q': 8, '4Q': 6}}, 'Punti_per_partita': {'Badgers': {'1Q': 15, '2Q': 17, '3Q': 15, '4Q': 13, 'TOT': 60}, 'Urgnano': {'1Q': 2, '2Q': 5, '3Q': 8, '4Q': 6, 'TOT': 21}}, 'Statistiche_squadra': {'ft': {'made': 6, 'attempted': 12, 'percentage': '50%'}, '2pt': {'made': 15, 'attempted': 46, 'percentage': '33%'}, '3pt': {'made': 8, 'attempted': 20, 'percentage': '40%'}}}, 'stats_giocatore': [{'shirtnumber': 1, 'name': 'Claudio', 'pts': 26, 'reb': 7, 'dreb': 5, 'orib': 2, 'ast': 4, 'to': 1, 'foul': 1, 'stl': 2, 'bk': 0, 'ft_made': 2, 'ft_taken': 2, 'ft_%': 100, '2p_made': 3, '2p_taken': 6, '2p_%': 50, '3p_made': 6, '3p_taken': 13, '3p_%': 46, 'shots': [{'X': -5.370447841605497, 'Y': 12.6133350739107, 'Made': False}, {'X': -2.446830089568323, 'Y': 12.647330629166945, 'Made': True}, {'X': -0.9850212135497358, 'Y': 11.525477305710822, 'Made': True}, {'X': 0.30680988618761873, 'Y': 11.253512863660852, 'Made': True}, {'X': 2.516520977843623, 'Y': 12.681326184423192, 'Made': False}, {'X': -6.5942878308303605, 'Y': 9.043801772004848, 'Made': False}, {'X': -6.220336723011652, 'Y': 8.193912890598693, 'Made': True}, {'X': -5.60841672839922, 'Y': 7.615988451242507, 'Made': True}, {'X': -4.928505623274296, 'Y': 7.0380640118863225, 'Made': False}, {'X': -4.316585628661864, 'Y': 6.358152906761398, 'Made': False}, {'X': -3.6706700787931865, 'Y': 5.882215133173951, 'Made': False}, {'X': -2.854776752643277, 'Y': 5.54225958061149, 'Made': True}, {'X': -1.121003434574721, 'Y': 5.134312917536534, 'Made': False}, {'X': 1.088707657081283, 'Y': 5.236299583305274, 'Made': True}, {'X': 2.4825254225873756, 'Y': 5.508264025355243, 'Made': True}, {'X': 4.114312074887195, 'Y': 6.15417957522392, 'Made': False}, {'X': 5.338152064112059, 'Y': 7.004068456630077, 'Made': False}, {'X': 6.188040945518214, 'Y': 8.091926224829955, 'Made': True}, {'X': 0.442792107212604, 'Y': 7.989939559061216, 'Made': False}]}, {'shirtnumber': 23, 'name': 'Geno', 'pts': 9, 'reb': 10, 'dreb': 8, 'orib': 2, 'ast': 0, 'to': 1, 'foul': 3, 'stl': 0, 'bk': 0, 'ft_made': 0, 'ft_taken': 0, 'ft_%': 0, '2p_made': 1, '2p_taken': 4, '2p_%': 25, '3p_made': 0, '3p_taken': 1, '3p_%': 0, 'shots': [{'X': -5.166474510068019, 'Y': 12.749317294935686, 'Made': False}, {'X': 2.3805387568186376, 'Y': 13.225255068523133, 'Made': True}, {'X': -1.936896760724629, 'Y': 12.103401745067007, 'Made': True}, {'X': 0.30680988618761873, 'Y': 11.42349063994208, 'Made': True}, {'X': 2.55051653309987, 'Y': 12.34137063186073, 'Made': False}, {'X': 2.4825254225873756, 'Y': 11.321503974173343, 'Made': True}, {'X': -0.5770745504747801, 'Y': 6.800095125092599, 'Made': False}, {'X': -0.37310121893730397, 'Y': 5.100317362280289, 'Made': False}]}, {'shirtnumber': 8, 'name': 'Gio', 'pts': 7, 'reb': 6, 'dreb': 6, 'orib': 0, 'ast': 3, 'to': 0, 'foul': 3, 'stl': 1, 'bk': 0, 'ft_made': 1, 'ft_taken': 2, 'ft_%': 50, '2p_made': 3, '2p_taken': 10, '2p_%': 30, '3p_made': 0, '3p_taken': 1, '3p_%': 0, 'shots': [{'X': 2.9244676409185786, 'Y': 15.944899489022827, 'Made': False}, {'X': -2.786785642130784, 'Y': 13.599206176341841, 'Made': False}, {'X': -2.8207811973870314, 'Y': 12.409361742373221, 'Made': False}, {'X': -6.016363391474174, 'Y': 12.375366187116978, 'Made': False}, {'X': -5.982367836217929, 'Y': 11.42349063994208, 'Made': False}, {'X': -6.016363391474174, 'Y': 7.412015119705031, 'Made': False}, {'X': -0.9510256582934904, 'Y': 9.723712877129774, 'Made': False}, {'X': -3.19473230520574, 'Y': 9.757708432386018, 'Made': True}, {'X': -2.4128345343120774, 'Y': 8.431881777392416, 'Made': True}, {'X': 3.162436527712302, 'Y': 12.919295071216915, 'Made': False}, {'X': 4.352280961680918, 'Y': 12.273379521348236, 'Made': False}, {'X': 3.400405414506025, 'Y': 11.049539532123376, 'Made': True}]}, {'shirtnumber': 14, 'name': 'Teo', 'pts': 2, 'reb': 7, 'dreb': 5, 'orib': 2, 'ast': 1, 'to': 0, 'foul': 1, 'stl': 1, 'bk': 0, 'ft_made': 0, 'ft_taken': 0, 'ft_%': 0, '2p_made': 1, '2p_taken': 4, '2p_%': 25, '3p_made': 0, '3p_taken': 1, '3p_%': 0, 'shots': [{'X': -7.070225604417807, 'Y': 9.48574399033605, 'Made': False}, {'X': -4.826518957505558, 'Y': 12.137397300323254, 'Made': False}, {'X': -2.0048878712371216, 'Y': 11.865432858273284, 'Made': False}, {'X': -1.2229901003434591, 'Y': 9.791703987642265, 'Made': False}, {'X': 3.0944454171998075, 'Y': 9.281770658798571, 'Made': True}]}, {'shirtnumber': 25, 'name': 'Lorenz', 'pts': 2, 'reb': 7, 'dreb': 5, 'orib': 2, 'ast': 1, 'to': 1, 'foul': 0, 'stl': 0, 'bk': 0, 'ft_made': 0, 'ft_taken': 0, 'ft_%': 0, '2p_made': 1, '2p_taken': 4, '2p_%': 25, '3p_made': 0, '3p_taken': 0, '3p_%': 0, 'shots': [{'X': 4.522258737962151, 'Y': 13.599206176341841, 'Made': False}, {'X': 2.3125476463061467, 'Y': 12.715321739679439, 'Made': True}, {'X': -1.0530123240622284, 'Y': 12.171392855579498, 'Made': False}, {'X': -0.6110701057310273, 'Y': 11.457486195198328, 'Made': False}]}, {'shirtnumber': 17, 'name': 'Patrick', 'pts': 3, 'reb': 1, 'dreb': 0, 'orib': 1, 'ast': 1, 'to': 2, 'foul': 1, 'stl': 0, 'bk': 0, 'ft_made': 1, 'ft_taken': 2, 'ft_%': 50, '2p_made': 1, '2p_taken': 2, '2p_%': 50, '3p_made': 0, '3p_taken': 0, '3p_%': 0, 'shots': [{'X': 5.134178732574583, 'Y': 13.089272847498147, 'Made': True}, {'X': -0.33910566368105677, 'Y': 6.766099569836352, 'Made': False}]}, {'shirtnumber': 13, 'name': 'Sandri', 'pts': 3, 'reb': 5, 'dreb': 4, 'orib': 1, 'ast': 0, 'to': 0, 'foul': 2, 'stl': 0, 'bk': 0, 'ft_made': 0, 'ft_taken': 0, 'ft_%': 0, '2p_made': 0, '2p_taken': 1, '2p_%': 0, '3p_made': 1, '3p_taken': 1, '3p_%': 100, 'shots': [{'X': -2.0048878712371216, 'Y': 10.029672874435988, 'Made': False}, {'X': -0.44109232944979837, 'Y': 5.202304028049027, 'Made': True}]}, {'shirtnumber': 69, 'name': 'Giamba', 'pts': 2, 'reb': 1, 'dreb': 0, 'orib': 1, 'ast': 0, 'to': 1, 'foul': 3, 'stl': 0, 'bk': 0, 'ft_made': 0, 'ft_taken': 0, 'ft_%': 0, '2p_made': 1, '2p_taken': 4, '2p_%': 25, '3p_made': 0, '3p_taken': 1, '3p_%': 0, 'shots': [{'X': -2.5148212000808154, 'Y': 12.409361742373221, 'Made': True}, {'X': -0.7470523267560125, 'Y': 10.199650650717217, 'Made': False}, {'X': 4.590249848474642, 'Y': 12.749317294935686, 'Made': False}, {'X': 1.0547121018250358, 'Y': 7.683979561755, 'Made': False}, {'X': -4.282590073405618, 'Y': 5.882215133173951, 'Made': False}]}, {'shirtnumber': 0, 'name': 'Zampo', 'pts': 6, 'reb': 7, 'dreb': 7, 'orib': 0, 'ast': 2, 'to': 2, 'foul': 0, 'stl': 5, 'bk': 0, 'ft_made': 1, 'ft_taken': 2, 'ft_%': 50, '2p_made': 1, '2p_taken': 2, '2p_%': 50, '3p_made': 1, '3p_taken': 1, '3p_%': 100, 'shots': [{'X': -0.20312344265607152, 'Y': 9.893690653411003, 'Made': False}, {'X': -4.62254562596808, 'Y': 6.358152906761398, 'Made': True}, {'X': 5.440138729880797, 'Y': 13.293246179035624, 'Made': True}]}, {'shirtnumber': 24, 'name': 'Scara', 'pts': 0, 'reb': 5, 'dreb': 4, 'orib': 1, 'ast': 0, 'to': 0, 'foul': 0, 'stl': 0, 'bk': 0, 'ft_made': 0, 'ft_taken': 0, 'ft_%': 0, '2p_made': 0, '2p_taken': 4, '2p_%': 0, '3p_made': 0, '3p_taken': 0, '3p_%': 0, 'shots': [{'X': -2.37883897905583, 'Y': 12.749317294935686, 'Made': False}, {'X': -1.6989278739309057, 'Y': 12.06940618981076, 'Made': False}, {'X': -2.140870092262107, 'Y': 11.593468416223313, 'Made': False}, {'X': -2.990758973668262, 'Y': 11.967419524042022, 'Made': False}]}, {'shirtnumber': 25, 'name': 'Iachi', 'pts': 0, 'reb': 3, 'dreb': 2, 'orib': 1, 'ast': 0, 'to': 0, 'foul': 0, 'stl': 0, 'bk': 0, 'ft_made': 0, 'ft_taken': 0, 'ft_%': 0, '2p_made': 0, '2p_taken': 2, '2p_%': 0, '3p_made': 0, '3p_taken': 1, '3p_%': 0, 'shots': [{'X': -5.370447841605497, 'Y': 12.919295071216915, 'Made': False}, {'X': -2.242856758030845, 'Y': 12.443357297629468, 'Made': False}, {'X': 2.448529867331132, 'Y': 13.429228400060609, 'Made': False}, {'X': 4.420272072193413, 'Y': 6.392148462017645, 'Made': False}]}]}\n"
     ]
    }
   ],
   "source": [
    "import json\n",
    "import os\n",
    "\n",
    "def carica_json(percorso_file):\n",
    "    \"\"\"Funzione per caricare un file JSON.\"\"\"\n",
    "    try:\n",
    "        with open(percorso_file, 'r') as f:\n",
    "            return json.load(f)\n",
    "    except FileNotFoundError:\n",
    "        print(f\"File non trovato: {percorso_file}\")\n",
    "        return {}\n",
    "    except json.JSONDecodeError:\n",
    "        print(f\"Errore nel decodificare il JSON: {percorso_file}\")\n",
    "        return {}\n",
    "\n",
    "def salva_json(dati, percorso_file):\n",
    "    \"\"\"Funzione per salvare un file JSON.\"\"\"\n",
    "    os.makedirs(os.path.dirname(percorso_file), exist_ok=True)\n",
    "    with open(percorso_file, 'w') as f:\n",
    "        json.dump(dati, f, indent=4)\n",
    "\n",
    "# Percorsi dei file\n",
    "percorso_stats = r'season_stats/match_stats/Urgnano_badgers_20241128.json'\n",
    "percorso_tiri = r'season_stats/shots_xy/badgersurgnano_shotsxy.json'\n",
    "\n",
    "# Carichiamo i dati\n",
    "stats_giocatori = carica_json(percorso_stats)\n",
    "all_shots = carica_json(percorso_tiri)\n",
    "print(all_shots)\n",
    "\n",
    "# Verifica che le strutture di dati siano presenti\n",
    "if 'stats_giocatore' in stats_giocatori:\n",
    "    # Aggiungiamo i tiri alle statistiche dei giocatori\n",
    "    for giocatore in stats_giocatori['stats_giocatore']:\n",
    "        nome = giocatore.get('name')  # Assumiamo che 'Name' sia l'identificatore del giocatore\n",
    "        print(nome)# Verifica che ci siano tiri per il giocatore nel file all_shots\n",
    "        if nome and nome in all_shots:\n",
    "            giocatore['shots'] = all_shots[nome]\n",
    "        else:\n",
    "            print('non ho trovato corrispondenza')\n",
    "            giocatore['shots'] = []  # Se non ci sono tiri, assegniamo una lista vuota\n",
    "\n",
    "    # Salva il file aggiornato\n",
    "    salva_json(stats_giocatori, percorso_stats)\n",
    "    print(\"Statistiche aggiornate con i tiri dei giocatori.\")\n",
    "    print(stats_giocatori)\n",
    "else:\n",
    "    print(\"La chiave 'stats_giocatore' non è presente nei dati caricati.\")\n"
   ]
  }
 ],
 "metadata": {
  "kernelspec": {
   "display_name": "venv",
   "language": "python",
   "name": "python3"
  },
  "language_info": {
   "codemirror_mode": {
    "name": "ipython",
    "version": 3
   },
   "file_extension": ".py",
   "mimetype": "text/x-python",
   "name": "python",
   "nbconvert_exporter": "python",
   "pygments_lexer": "ipython3",
   "version": "3.11.9"
  }
 },
 "nbformat": 4,
 "nbformat_minor": 2
}

{
 "cells": [
  {
   "cell_type": "code",
   "execution_count": 1,
   "metadata": {},
   "outputs": [
    {
     "name": "stdout",
     "output_type": "stream",
     "text": [
      "Statistiche aggiornate con i tiri dei giocatori.\n"
     ]
    }
   ],
   "source": [
    "import json\n",
    "import os\n",
    "\n",
    "def carica_json(percorso_file):\n",
    "    \"\"\"Funzione per caricare un file JSON.\"\"\"\n",
    "    try:\n",
    "        with open(percorso_file, 'r') as f:\n",
    "            return json.load(f)\n",
    "    except FileNotFoundError:\n",
    "        print(f\"File non trovato: {percorso_file}\")\n",
    "        return {}\n",
    "    except json.JSONDecodeError:\n",
    "        print(f\"Errore nel decodificare il JSON: {percorso_file}\")\n",
    "        return {}\n",
    "\n",
    "def salva_json(dati, percorso_file):\n",
    "    \"\"\"Funzione per salvare un file JSON.\"\"\"\n",
    "    os.makedirs(os.path.dirname(percorso_file), exist_ok=True)\n",
    "    with open(percorso_file, 'w') as f:\n",
    "        json.dump(dati, f, indent=4)\n",
    "\n",
    "# Percorsi dei file\n",
    "percorso_stats = r'season_stats\\badgers_potascetbasket_20241007.json'\n",
    "percorso_tiri = r'season_stats\\shots_xy\\badgerspotascet_shotsxy.json'\n",
    "\n",
    "# Carichiamo i dati\n",
    "stats_giocatori = carica_json(percorso_stats)\n",
    "all_shots = carica_json(percorso_tiri)\n",
    "\n",
    "# Verifica che le strutture di dati siano presenti\n",
    "if 'stats_giocatore' in stats_giocatori:\n",
    "    # Aggiungiamo i tiri alle statistiche dei giocatori\n",
    "    for giocatore in stats_giocatori['stats_giocatore']:\n",
    "        nome = giocatore.get('Name')  # Assumiamo che 'Name' sia l'identificatore del giocatore\n",
    "        # Verifica che ci siano tiri per il giocatore nel file all_shots\n",
    "        if nome and nome in all_shots:\n",
    "            giocatore['shots'] = all_shots[nome]\n",
    "        else:\n",
    "            giocatore['shots'] = []  # Se non ci sono tiri, assegniamo una lista vuota\n",
    "\n",
    "    # Salva il file aggiornato\n",
    "    salva_json(stats_giocatori, percorso_stats)\n",
    "    print(\"Statistiche aggiornate con i tiri dei giocatori.\")\n",
    "else:\n",
    "    print(\"La chiave 'stats_giocatore' non è presente nei dati caricati.\")\n"
   ]
  }
 ],
 "metadata": {
  "kernelspec": {
   "display_name": "venv",
   "language": "python",
   "name": "python3"
  },
  "language_info": {
   "codemirror_mode": {
    "name": "ipython",
    "version": 3
   },
   "file_extension": ".py",
   "mimetype": "text/x-python",
   "name": "python",
   "nbconvert_exporter": "python",
   "pygments_lexer": "ipython3",
   "version": "3.11.9"
  }
 },
 "nbformat": 4,
 "nbformat_minor": 2
}
